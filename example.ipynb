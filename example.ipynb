{
 "cells": [
  {
   "metadata": {},
   "cell_type": "code",
   "source": [
    "import os\n",
    "\n",
    "save_detections = True\n",
    "frames_dir = r\"\"\n",
    "if save_detections:\n",
    "    for entry in os.listdir(frames_dir):\n",
    "        path = os.path.join(frames_dir, entry)\n",
    "        os.remove(path)"
   ],
   "id": "fdff79770227d7df",
   "outputs": [],
   "execution_count": null
  },
  {
   "metadata": {},
   "cell_type": "code",
   "source": [
    "from Violation_detector import ViolationsDetector\n",
    "\n",
    "tracker = ViolationsDetector(\n",
    "        model_path=\"yolo_model.pt\",\n",
    "        video_path=\"video_for_detection\",\n",
    "        scene_config_path=\"scene.yaml\",\n",
    "        tl_model_path=\"traffic_light_model.pth\",\n",
    "        device=\"cuda:0\",\n",
    "        frame_stride=1,\n",
    "        save_frames=save_detections,\n",
    "        frames_dir=frames_dir,\n",
    "        violation_dir=\"violations\",\n",
    "        save_clips=False,\n",
    "    )\n",
    "\n",
    "tracker.run()"
   ],
   "id": "cc008e6e970eec08",
   "outputs": [],
   "execution_count": null
  },
  {
   "metadata": {},
   "cell_type": "code",
   "source": [
    "from helpers import make_video_from_dir\n",
    "\n",
    "if save_detections:\n",
    "    make_video_from_dir(frames_dir, \"out_vids/model_view.mp4\")"
   ],
   "id": "948ed80ce0983868",
   "outputs": [],
   "execution_count": null
  }
 ],
 "metadata": {
  "kernelspec": {
   "display_name": "Python 3",
   "language": "python",
   "name": "python3"
  },
  "language_info": {
   "codemirror_mode": {
    "name": "ipython",
    "version": 2
   },
   "file_extension": ".py",
   "mimetype": "text/x-python",
   "name": "python",
   "nbconvert_exporter": "python",
   "pygments_lexer": "ipython2",
   "version": "2.7.6"
  }
 },
 "nbformat": 4,
 "nbformat_minor": 5
}
